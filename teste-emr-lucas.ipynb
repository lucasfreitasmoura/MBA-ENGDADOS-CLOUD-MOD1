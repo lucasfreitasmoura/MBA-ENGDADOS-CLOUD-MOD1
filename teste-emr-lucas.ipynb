{
 "cells": [
  {
   "cell_type": "code",
   "execution_count": 1,
   "id": "665b9009",
   "metadata": {},
   "outputs": [
    {
     "data": {
      "application/vnd.jupyter.widget-view+json": {
       "model_id": "ff49ff74600344dc955e1716c8cc2c23",
       "version_major": 2,
       "version_minor": 0
      },
      "text/plain": [
       "VBox()"
      ]
     },
     "metadata": {},
     "output_type": "display_data"
    },
    {
     "name": "stdout",
     "output_type": "stream",
     "text": [
      "Starting Spark application\n"
     ]
    },
    {
     "data": {
      "text/html": [
       "<table>\n",
       "<tr><th>ID</th><th>YARN Application ID</th><th>Kind</th><th>State</th><th>Spark UI</th><th>Driver log</th><th>Current session?</th></tr><tr><td>0</td><td>application_1628944772737_0002</td><td>pyspark</td><td>idle</td><td><a target=\"_blank\" href=\"http://ip-172-31-4-116.us-east-2.compute.internal:20888/proxy/application_1628944772737_0002/\" class=\"emr-proxy-link\" emr-resource=\"j-1F1NH8BZ76RN1\n",
       "\" application-id=\"application_1628944772737_0002\">Link</a></td><td><a target=\"_blank\" href=\"http://ip-172-31-2-89.us-east-2.compute.internal:8042/node/containerlogs/container_1628944772737_0002_01_000001/livy\" >Link</a></td><td>✔</td></tr></table>"
      ],
      "text/plain": [
       "<IPython.core.display.HTML object>"
      ]
     },
     "metadata": {},
     "output_type": "display_data"
    },
    {
     "data": {
      "application/vnd.jupyter.widget-view+json": {
       "model_id": "",
       "version_major": 2,
       "version_minor": 0
      },
      "text/plain": [
       "FloatProgress(value=0.0, bar_style='info', description='Progress:', layout=Layout(height='25px', width='50%'),…"
      ]
     },
     "metadata": {},
     "output_type": "display_data"
    },
    {
     "name": "stdout",
     "output_type": "stream",
     "text": [
      "SparkSession available as 'spark'.\n"
     ]
    },
    {
     "data": {
      "application/vnd.jupyter.widget-view+json": {
       "model_id": "",
       "version_major": 2,
       "version_minor": 0
      },
      "text/plain": [
       "FloatProgress(value=0.0, bar_style='info', description='Progress:', layout=Layout(height='25px', width='50%'),…"
      ]
     },
     "metadata": {},
     "output_type": "display_data"
    }
   ],
   "source": [
    "import pyspark"
   ]
  },
  {
   "cell_type": "code",
   "execution_count": 2,
   "id": "ae7e9a37",
   "metadata": {},
   "outputs": [
    {
     "data": {
      "application/vnd.jupyter.widget-view+json": {
       "model_id": "c311ee47f9db468a8a6f02b677d433e6",
       "version_major": 2,
       "version_minor": 0
      },
      "text/plain": [
       "VBox()"
      ]
     },
     "metadata": {},
     "output_type": "display_data"
    },
    {
     "data": {
      "application/vnd.jupyter.widget-view+json": {
       "model_id": "",
       "version_major": 2,
       "version_minor": 0
      },
      "text/plain": [
       "FloatProgress(value=0.0, bar_style='info', description='Progress:', layout=Layout(height='25px', width='50%'),…"
      ]
     },
     "metadata": {},
     "output_type": "display_data"
    }
   ],
   "source": [
    "# Ler os dados do enem 2019\n",
    "\n",
    "enem = (\n",
    "    spark\n",
    "    .read\n",
    "    .format(\"csv\")\n",
    "    .option(\"header\", True)\n",
    "    .option(\"inferSchema\", True)\n",
    "    .option(\"delimiter\", \";\")\n",
    "    .load(\"s3://datalake-lucas-igti-edc/raw-data/enem/\")\n",
    "    \n",
    ")"
   ]
  },
  {
   "cell_type": "code",
   "execution_count": 3,
   "id": "8cf07ad8",
   "metadata": {
    "scrolled": true
   },
   "outputs": [
    {
     "data": {
      "application/vnd.jupyter.widget-view+json": {
       "model_id": "0fa24e86834f425a9025135972a89e7b",
       "version_major": 2,
       "version_minor": 0
      },
      "text/plain": [
       "VBox()"
      ]
     },
     "metadata": {},
     "output_type": "display_data"
    },
    {
     "data": {
      "application/vnd.jupyter.widget-view+json": {
       "model_id": "",
       "version_major": 2,
       "version_minor": 0
      },
      "text/plain": [
       "FloatProgress(value=0.0, bar_style='info', description='Progress:', layout=Layout(height='25px', width='50%'),…"
      ]
     },
     "metadata": {},
     "output_type": "display_data"
    },
    {
     "name": "stdout",
     "output_type": "stream",
     "text": [
      "root\n",
      " |-- NU_INSCRICAO: long (nullable = true)\n",
      " |-- NU_ANO: integer (nullable = true)\n",
      " |-- CO_MUNICIPIO_RESIDENCIA: integer (nullable = true)\n",
      " |-- NO_MUNICIPIO_RESIDENCIA: string (nullable = true)\n",
      " |-- CO_UF_RESIDENCIA: integer (nullable = true)\n",
      " |-- SG_UF_RESIDENCIA: string (nullable = true)\n",
      " |-- NU_IDADE: integer (nullable = true)\n",
      " |-- TP_SEXO: string (nullable = true)\n",
      " |-- TP_ESTADO_CIVIL: integer (nullable = true)\n",
      " |-- TP_COR_RACA: integer (nullable = true)\n",
      " |-- TP_NACIONALIDADE: integer (nullable = true)\n",
      " |-- CO_MUNICIPIO_NASCIMENTO: integer (nullable = true)\n",
      " |-- NO_MUNICIPIO_NASCIMENTO: string (nullable = true)\n",
      " |-- CO_UF_NASCIMENTO: integer (nullable = true)\n",
      " |-- SG_UF_NASCIMENTO: string (nullable = true)\n",
      " |-- TP_ST_CONCLUSAO: integer (nullable = true)\n",
      " |-- TP_ANO_CONCLUIU: integer (nullable = true)\n",
      " |-- TP_ESCOLA: integer (nullable = true)\n",
      " |-- TP_ENSINO: integer (nullable = true)\n",
      " |-- IN_TREINEIRO: integer (nullable = true)\n",
      " |-- CO_ESCOLA: integer (nullable = true)\n",
      " |-- CO_MUNICIPIO_ESC: integer (nullable = true)\n",
      " |-- NO_MUNICIPIO_ESC: string (nullable = true)\n",
      " |-- CO_UF_ESC: integer (nullable = true)\n",
      " |-- SG_UF_ESC: string (nullable = true)\n",
      " |-- TP_DEPENDENCIA_ADM_ESC: integer (nullable = true)\n",
      " |-- TP_LOCALIZACAO_ESC: integer (nullable = true)\n",
      " |-- TP_SIT_FUNC_ESC: integer (nullable = true)\n",
      " |-- IN_BAIXA_VISAO: integer (nullable = true)\n",
      " |-- IN_CEGUEIRA: integer (nullable = true)\n",
      " |-- IN_SURDEZ: integer (nullable = true)\n",
      " |-- IN_DEFICIENCIA_AUDITIVA: integer (nullable = true)\n",
      " |-- IN_SURDO_CEGUEIRA: integer (nullable = true)\n",
      " |-- IN_DEFICIENCIA_FISICA: integer (nullable = true)\n",
      " |-- IN_DEFICIENCIA_MENTAL: integer (nullable = true)\n",
      " |-- IN_DEFICIT_ATENCAO: integer (nullable = true)\n",
      " |-- IN_DISLEXIA: integer (nullable = true)\n",
      " |-- IN_DISCALCULIA: integer (nullable = true)\n",
      " |-- IN_AUTISMO: integer (nullable = true)\n",
      " |-- IN_VISAO_MONOCULAR: integer (nullable = true)\n",
      " |-- IN_OUTRA_DEF: integer (nullable = true)\n",
      " |-- IN_GESTANTE: integer (nullable = true)\n",
      " |-- IN_LACTANTE: integer (nullable = true)\n",
      " |-- IN_IDOSO: integer (nullable = true)\n",
      " |-- IN_ESTUDA_CLASSE_HOSPITALAR: integer (nullable = true)\n",
      " |-- IN_SEM_RECURSO: integer (nullable = true)\n",
      " |-- IN_BRAILLE: integer (nullable = true)\n",
      " |-- IN_AMPLIADA_24: integer (nullable = true)\n",
      " |-- IN_AMPLIADA_18: integer (nullable = true)\n",
      " |-- IN_LEDOR: integer (nullable = true)\n",
      " |-- IN_ACESSO: integer (nullable = true)\n",
      " |-- IN_TRANSCRICAO: integer (nullable = true)\n",
      " |-- IN_LIBRAS: integer (nullable = true)\n",
      " |-- IN_TEMPO_ADICIONAL: integer (nullable = true)\n",
      " |-- IN_LEITURA_LABIAL: integer (nullable = true)\n",
      " |-- IN_MESA_CADEIRA_RODAS: integer (nullable = true)\n",
      " |-- IN_MESA_CADEIRA_SEPARADA: integer (nullable = true)\n",
      " |-- IN_APOIO_PERNA: integer (nullable = true)\n",
      " |-- IN_GUIA_INTERPRETE: integer (nullable = true)\n",
      " |-- IN_COMPUTADOR: integer (nullable = true)\n",
      " |-- IN_CADEIRA_ESPECIAL: integer (nullable = true)\n",
      " |-- IN_CADEIRA_CANHOTO: integer (nullable = true)\n",
      " |-- IN_CADEIRA_ACOLCHOADA: integer (nullable = true)\n",
      " |-- IN_PROVA_DEITADO: integer (nullable = true)\n",
      " |-- IN_MOBILIARIO_OBESO: integer (nullable = true)\n",
      " |-- IN_LAMINA_OVERLAY: integer (nullable = true)\n",
      " |-- IN_PROTETOR_AURICULAR: integer (nullable = true)\n",
      " |-- IN_MEDIDOR_GLICOSE: integer (nullable = true)\n",
      " |-- IN_MAQUINA_BRAILE: integer (nullable = true)\n",
      " |-- IN_SOROBAN: integer (nullable = true)\n",
      " |-- IN_MARCA_PASSO: integer (nullable = true)\n",
      " |-- IN_SONDA: integer (nullable = true)\n",
      " |-- IN_MEDICAMENTOS: integer (nullable = true)\n",
      " |-- IN_SALA_INDIVIDUAL: integer (nullable = true)\n",
      " |-- IN_SALA_ESPECIAL: integer (nullable = true)\n",
      " |-- IN_SALA_ACOMPANHANTE: integer (nullable = true)\n",
      " |-- IN_MOBILIARIO_ESPECIFICO: integer (nullable = true)\n",
      " |-- IN_MATERIAL_ESPECIFICO: integer (nullable = true)\n",
      " |-- IN_NOME_SOCIAL: integer (nullable = true)\n",
      " |-- CO_MUNICIPIO_PROVA: integer (nullable = true)\n",
      " |-- NO_MUNICIPIO_PROVA: string (nullable = true)\n",
      " |-- CO_UF_PROVA: integer (nullable = true)\n",
      " |-- SG_UF_PROVA: string (nullable = true)\n",
      " |-- TP_PRESENCA_CN: integer (nullable = true)\n",
      " |-- TP_PRESENCA_CH: integer (nullable = true)\n",
      " |-- TP_PRESENCA_LC: integer (nullable = true)\n",
      " |-- TP_PRESENCA_MT: integer (nullable = true)\n",
      " |-- CO_PROVA_CN: integer (nullable = true)\n",
      " |-- CO_PROVA_CH: integer (nullable = true)\n",
      " |-- CO_PROVA_LC: integer (nullable = true)\n",
      " |-- CO_PROVA_MT: integer (nullable = true)\n",
      " |-- NU_NOTA_CN: double (nullable = true)\n",
      " |-- NU_NOTA_CH: double (nullable = true)\n",
      " |-- NU_NOTA_LC: double (nullable = true)\n",
      " |-- NU_NOTA_MT: double (nullable = true)\n",
      " |-- TX_RESPOSTAS_CN: string (nullable = true)\n",
      " |-- TX_RESPOSTAS_CH: string (nullable = true)\n",
      " |-- TX_RESPOSTAS_LC: string (nullable = true)\n",
      " |-- TX_RESPOSTAS_MT: string (nullable = true)\n",
      " |-- TP_LINGUA: integer (nullable = true)\n",
      " |-- TX_GABARITO_CN: string (nullable = true)\n",
      " |-- TX_GABARITO_CH: string (nullable = true)\n",
      " |-- TX_GABARITO_LC: string (nullable = true)\n",
      " |-- TX_GABARITO_MT: string (nullable = true)\n",
      " |-- TP_STATUS_REDACAO: integer (nullable = true)\n",
      " |-- NU_NOTA_COMP1: integer (nullable = true)\n",
      " |-- NU_NOTA_COMP2: integer (nullable = true)\n",
      " |-- NU_NOTA_COMP3: integer (nullable = true)\n",
      " |-- NU_NOTA_COMP4: integer (nullable = true)\n",
      " |-- NU_NOTA_COMP5: integer (nullable = true)\n",
      " |-- NU_NOTA_REDACAO: integer (nullable = true)\n",
      " |-- Q001: string (nullable = true)\n",
      " |-- Q002: string (nullable = true)\n",
      " |-- Q003: string (nullable = true)\n",
      " |-- Q004: string (nullable = true)\n",
      " |-- Q005: integer (nullable = true)\n",
      " |-- Q006: string (nullable = true)\n",
      " |-- Q007: string (nullable = true)\n",
      " |-- Q008: string (nullable = true)\n",
      " |-- Q009: string (nullable = true)\n",
      " |-- Q010: string (nullable = true)\n",
      " |-- Q011: string (nullable = true)\n",
      " |-- Q012: string (nullable = true)\n",
      " |-- Q013: string (nullable = true)\n",
      " |-- Q014: string (nullable = true)\n",
      " |-- Q015: string (nullable = true)\n",
      " |-- Q016: string (nullable = true)\n",
      " |-- Q017: string (nullable = true)\n",
      " |-- Q018: string (nullable = true)\n",
      " |-- Q019: string (nullable = true)\n",
      " |-- Q020: string (nullable = true)\n",
      " |-- Q021: string (nullable = true)\n",
      " |-- Q022: string (nullable = true)\n",
      " |-- Q023: string (nullable = true)\n",
      " |-- Q024: string (nullable = true)\n",
      " |-- Q025: string (nullable = true)\n",
      " |-- year: integer (nullable = true)"
     ]
    }
   ],
   "source": [
    "enem.printSchema()"
   ]
  },
  {
   "cell_type": "code",
   "execution_count": 4,
   "id": "9674a98f",
   "metadata": {},
   "outputs": [
    {
     "data": {
      "application/vnd.jupyter.widget-view+json": {
       "model_id": "a25c3e84d4c44f22b69c6472238cd152",
       "version_major": 2,
       "version_minor": 0
      },
      "text/plain": [
       "VBox()"
      ]
     },
     "metadata": {},
     "output_type": "display_data"
    },
    {
     "data": {
      "application/vnd.jupyter.widget-view+json": {
       "model_id": "",
       "version_major": 2,
       "version_minor": 0
      },
      "text/plain": [
       "FloatProgress(value=0.0, bar_style='info', description='Progress:', layout=Layout(height='25px', width='50%'),…"
      ]
     },
     "metadata": {},
     "output_type": "display_data"
    }
   ],
   "source": [
    "# Mostrar os seguintes dados do Enem 2019, IDADE, SEXO, ESTADO CIVIL, COR, NACIONALIDADE, NOTA DE CIENCIAS NATURAIS, CIENCIAS HUMANAS, LINGUAGEM E MATEMATICA \n",
    "df = (\n",
    "    enem\n",
    "    .select(\"NU_IDADE\", \"TP_SEXO\", \"TP_ESTADO_CIVIL\", \"TP_COR_RACA\", \"TP_NACIONALIDADE\",\n",
    "           \"NU_NOTA_CN\", \"NU_NOTA_CH\", \"NU_NOTA_LC\", \"NU_NOTA_MT\")\n",
    ")"
   ]
  },
  {
   "cell_type": "code",
   "execution_count": 5,
   "id": "b85ed159",
   "metadata": {},
   "outputs": [
    {
     "data": {
      "application/vnd.jupyter.widget-view+json": {
       "model_id": "39f63b39689740859c365bcc6b64dbb4",
       "version_major": 2,
       "version_minor": 0
      },
      "text/plain": [
       "VBox()"
      ]
     },
     "metadata": {},
     "output_type": "display_data"
    },
    {
     "data": {
      "application/vnd.jupyter.widget-view+json": {
       "model_id": "",
       "version_major": 2,
       "version_minor": 0
      },
      "text/plain": [
       "FloatProgress(value=0.0, bar_style='info', description='Progress:', layout=Layout(height='25px', width='50%'),…"
      ]
     },
     "metadata": {},
     "output_type": "display_data"
    },
    {
     "name": "stdout",
     "output_type": "stream",
     "text": [
      "+--------+-------+---------------+-----------+----------------+----------+----------+----------+----------+\n",
      "|NU_IDADE|TP_SEXO|TP_ESTADO_CIVIL|TP_COR_RACA|TP_NACIONALIDADE|NU_NOTA_CN|NU_NOTA_CH|NU_NOTA_LC|NU_NOTA_MT|\n",
      "+--------+-------+---------------+-----------+----------------+----------+----------+----------+----------+\n",
      "|      36|      M|              1|          3|               1|      null|      null|      null|      null|\n",
      "|      23|      M|              1|          1|               1|      null|      null|      null|      null|\n",
      "|      39|      F|              1|          3|               1|      null|      null|      null|      null|\n",
      "|      25|      F|              1|          1|               1|     483.8|     503.6|     537.3|     392.0|\n",
      "|      22|      F|              1|          1|               1|     513.6|     575.5|     570.7|     677.0|\n",
      "|      37|      M|              2|          2|               1|     563.7|     644.9|     564.2|     675.3|\n",
      "|      22|      F|              1|          3|               1|     484.6|     488.4|     507.2|     594.7|\n",
      "|      20|      M|              1|          3|               1|      null|      null|      null|      null|\n",
      "|      20|      F|              1|          1|               1|      null|      null|      null|      null|\n",
      "|      17|      M|              1|          1|               1|     543.9|     548.1|     502.5|     480.7|\n",
      "+--------+-------+---------------+-----------+----------------+----------+----------+----------+----------+\n",
      "only showing top 10 rows"
     ]
    }
   ],
   "source": [
    "# Mostra 10 alunos\n",
    "df.show(10)"
   ]
  },
  {
   "cell_type": "code",
   "execution_count": 6,
   "id": "8809bdce",
   "metadata": {},
   "outputs": [
    {
     "data": {
      "application/vnd.jupyter.widget-view+json": {
       "model_id": "63b902f98e0942dc82e24f7e68b0a447",
       "version_major": 2,
       "version_minor": 0
      },
      "text/plain": [
       "VBox()"
      ]
     },
     "metadata": {},
     "output_type": "display_data"
    },
    {
     "data": {
      "application/vnd.jupyter.widget-view+json": {
       "model_id": "",
       "version_major": 2,
       "version_minor": 0
      },
      "text/plain": [
       "FloatProgress(value=0.0, bar_style='info', description='Progress:', layout=Layout(height='25px', width='50%'),…"
      ]
     },
     "metadata": {},
     "output_type": "display_data"
    },
    {
     "name": "stdout",
     "output_type": "stream",
     "text": [
      "5095270"
     ]
    }
   ],
   "source": [
    "#Mostra quantidade de Alunos que fizeram o Enem em 2019.\n",
    "df.count()"
   ]
  },
  {
   "cell_type": "code",
   "execution_count": 7,
   "id": "bc8ed90c",
   "metadata": {},
   "outputs": [
    {
     "data": {
      "application/vnd.jupyter.widget-view+json": {
       "model_id": "26ab75480cce4f179970a99f5b55aa24",
       "version_major": 2,
       "version_minor": 0
      },
      "text/plain": [
       "VBox()"
      ]
     },
     "metadata": {},
     "output_type": "display_data"
    },
    {
     "data": {
      "application/vnd.jupyter.widget-view+json": {
       "model_id": "",
       "version_major": 2,
       "version_minor": 0
      },
      "text/plain": [
       "FloatProgress(value=0.0, bar_style='info', description='Progress:', layout=Layout(height='25px', width='50%'),…"
      ]
     },
     "metadata": {},
     "output_type": "display_data"
    }
   ],
   "source": [
    "#IMPORTAR ALGUMAS FUNÇÕES\n",
    "from pyspark.sql.functions import mean, max, min, col, count"
   ]
  },
  {
   "cell_type": "code",
   "execution_count": 8,
   "id": "00910de4",
   "metadata": {},
   "outputs": [
    {
     "data": {
      "application/vnd.jupyter.widget-view+json": {
       "model_id": "a9c4bd3affb44e6688ab1f924b48a182",
       "version_major": 2,
       "version_minor": 0
      },
      "text/plain": [
       "VBox()"
      ]
     },
     "metadata": {},
     "output_type": "display_data"
    },
    {
     "data": {
      "application/vnd.jupyter.widget-view+json": {
       "model_id": "",
       "version_major": 2,
       "version_minor": 0
      },
      "text/plain": [
       "FloatProgress(value=0.0, bar_style='info', description='Progress:', layout=Layout(height='25px', width='50%'),…"
      ]
     },
     "metadata": {},
     "output_type": "display_data"
    },
    {
     "name": "stdout",
     "output_type": "stream",
     "text": [
      "+-------+------------------+--------+-----------+-----------+\n",
      "|TP_SEXO|         MED_IDADE|CONTAGEM|MAX_NOTA_MT|MIN_NOTA_MT|\n",
      "+-------+------------------+--------+-----------+-----------+\n",
      "|      M|22.179410259492027| 2063448|      985.5|        0.0|\n",
      "|      F|22.025187142228095| 3031822|      985.0|        0.0|\n",
      "+-------+------------------+--------+-----------+-----------+"
     ]
    }
   ],
   "source": [
    "(\n",
    "    df\n",
    "    .groupby(\"TP_SEXO\")\n",
    "    .agg(\n",
    "        #media da coluna NU_IDADE com nome de \"MED_IDADE\"\n",
    "        mean(col(\"NU_IDADE\")).alias(\"MED_IDADE\"),\n",
    "        #contagem de pessoa de cada sexo com nome de \"CONTAGEM\"\n",
    "        count(col(\"TP_SEXO\")).alias(\"CONTAGEM\"),\n",
    "        #Nota Máxima em Matemática com o nome de \"MAX_NOTA_MT\"\n",
    "        max(col(\"NU_NOTA_MT\")).alias(\"MAX_NOTA_MT\"),\n",
    "        #Nota Mínima em Matemática com o nome de \"MIN_NOTA_MT\"\n",
    "        min(col(\"NU_NOTA_MT\")).alias(\"MIN_NOTA_MT\"),\n",
    "     )\n",
    "    .show()\n",
    ")"
   ]
  },
  {
   "cell_type": "code",
   "execution_count": null,
   "id": "cd8c2882",
   "metadata": {},
   "outputs": [],
   "source": [
    "#Otimizar o Código utilizando formato Parquet\n",
    "\n",
    "(\n",
    "    enem\n",
    "    .write\n",
    "    .mode(\"overwrite\")\n",
    "    .format(\"parquet\")\n",
    "    .partitionBy(\"year\")\n",
    "    .save(\"s3://datalake-lucas-igti-edc/staging/enem\")\n",
    "    \n",
    ")"
   ]
  },
  {
   "cell_type": "code",
   "execution_count": 9,
   "id": "73b8c894",
   "metadata": {},
   "outputs": [
    {
     "data": {
      "application/vnd.jupyter.widget-view+json": {
       "model_id": "bfeb216e79f44a9b8fcfb980581cc67e",
       "version_major": 2,
       "version_minor": 0
      },
      "text/plain": [
       "VBox()"
      ]
     },
     "metadata": {},
     "output_type": "display_data"
    },
    {
     "data": {
      "application/vnd.jupyter.widget-view+json": {
       "model_id": "",
       "version_major": 2,
       "version_minor": 0
      },
      "text/plain": [
       "FloatProgress(value=0.0, bar_style='info', description='Progress:', layout=Layout(height='25px', width='50%'),…"
      ]
     },
     "metadata": {},
     "output_type": "display_data"
    }
   ],
   "source": [
    "#Pausar sessão do Spark\n",
    "spark.stop()"
   ]
  }
 ],
 "metadata": {
  "kernelspec": {
   "display_name": "PySpark",
   "language": "",
   "name": "pysparkkernel"
  },
  "language_info": {
   "codemirror_mode": {
    "name": "python",
    "version": 3
   },
   "mimetype": "text/x-python",
   "name": "pyspark",
   "pygments_lexer": "python3"
  }
 },
 "nbformat": 4,
 "nbformat_minor": 5
}
